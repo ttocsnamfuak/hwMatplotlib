{
 "cells": [
  {
   "cell_type": "code",
   "execution_count": 1,
   "metadata": {
    "collapsed": true
   },
   "outputs": [],
   "source": [
    "#Dependencies - Import the stuff you need\n",
    "import matplotlib.pyplot as plt\n",
    "import matplotlib.patches as mpatches\n",
    "import numpy as np\n",
    "import pandas as pd\n",
    "import seaborn as sns\n"
   ]
  },
  {
   "cell_type": "code",
   "execution_count": 2,
   "metadata": {
    "collapsed": true
   },
   "outputs": [],
   "source": [
    "#Read the files\n",
    "# Read CSV and create data frames\n",
    "city_df = pd.read_csv(\"raw_data/city_data.csv\")\n",
    "rider_df = pd.read_csv(\"raw_data/ride_data.csv\")\n",
    "\n",
    "# Merge our two data frames together\n",
    "#combined_unemployed_data = pd.merge(unemployed_data_one, unemployed_data_two, on=\"Country Name\")\n",
    "#combined_unemployed_data.head()"
   ]
  },
  {
   "cell_type": "code",
   "execution_count": 3,
   "metadata": {},
   "outputs": [],
   "source": [
    "#merge the data frames on the common id city\n",
    "\n",
    "new_df = pd.merge(left=city_df, right=rider_df,\n",
    "                 how='left', left_on='city',\n",
    "                 right_on='city')\n",
    "fare_sum = new_df['fare'].sum()\n",
    "fare_type = new_df.groupby(['type']).sum()\n",
    "\n",
    "# fare_type.reset_index('type')\n",
    "# type(fare_type)"
   ]
  },
  {
   "cell_type": "code",
   "execution_count": 4,
   "metadata": {
    "collapsed": true
   },
   "outputs": [
    {
     "data": {
      "text/plain": [
       "Index(['city', 'driver_count', 'type', 'date', 'fare', 'ride_id'], dtype='object')"
      ]
     },
     "execution_count": 4,
     "metadata": {},
     "output_type": "execute_result"
    }
   ],
   "source": [
    "new_df.columns"
   ]
  },
  {
   "cell_type": "code",
   "execution_count": 5,
   "metadata": {},
   "outputs": [
    {
     "data": {
      "text/plain": [
       "Index(['city', 'date', 'fare', 'ride_id'], dtype='object')"
      ]
     },
     "execution_count": 5,
     "metadata": {},
     "output_type": "execute_result"
    }
   ],
   "source": [
    "rider_df.columns"
   ]
  },
  {
   "cell_type": "code",
   "execution_count": 6,
   "metadata": {},
   "outputs": [
    {
     "data": {
      "text/plain": [
       "Index(['city', 'driver_count', 'type'], dtype='object')"
      ]
     },
     "execution_count": 6,
     "metadata": {},
     "output_type": "execute_result"
    }
   ],
   "source": [
    "city_df.columns"
   ]
  },
  {
   "cell_type": "markdown",
   "metadata": {},
   "source": [
    "1. Average Fare ($) Per City\n",
    "\n",
    "2. Total Number of Rides Per City\n",
    "\n",
    "3. Total Number of Drivers Per City\n",
    "\n",
    "4. City Type (Urban, Suburban, Rural)"
   ]
  },
  {
   "cell_type": "code",
   "execution_count": 7,
   "metadata": {},
   "outputs": [],
   "source": [
    "avgFares_city = rider_df.groupby('city').mean() # for bubble plot\n",
    "\n",
    "avgFares_city.head()\n",
    "\n",
    "totRiders_city = rider_df.groupby(['city']).count() # for bubble plot\n",
    "totRiders_city\n",
    "\n",
    "cityFareSum_df = rider_df.groupby(['city']).sum()\n",
    "\n",
    "totDrivers_city = city_df.groupby(['city']).sum() # for bubble plot\n",
    "\n",
    "totType_city = city_df.groupby(['type']).count() # fort bubble plot\n",
    "\n",
    "cityByType_df = city_df.groupby(['type'])\n",
    "\n",
    "\n"
   ]
  },
  {
   "cell_type": "code",
   "execution_count": 8,
   "metadata": {},
   "outputs": [
    {
     "data": {
      "text/html": [
       "<div>\n",
       "<style>\n",
       "    .dataframe thead tr:only-child th {\n",
       "        text-align: right;\n",
       "    }\n",
       "\n",
       "    .dataframe thead th {\n",
       "        text-align: left;\n",
       "    }\n",
       "\n",
       "    .dataframe tbody tr th {\n",
       "        vertical-align: top;\n",
       "    }\n",
       "</style>\n",
       "<table border=\"1\" class=\"dataframe\">\n",
       "  <thead>\n",
       "    <tr style=\"text-align: right;\">\n",
       "      <th></th>\n",
       "      <th>date</th>\n",
       "      <th>fare</th>\n",
       "      <th>ride_id</th>\n",
       "    </tr>\n",
       "    <tr>\n",
       "      <th>city</th>\n",
       "      <th></th>\n",
       "      <th></th>\n",
       "      <th></th>\n",
       "    </tr>\n",
       "  </thead>\n",
       "  <tbody>\n",
       "    <tr>\n",
       "      <th>Alvarezhaven</th>\n",
       "      <td>31</td>\n",
       "      <td>31</td>\n",
       "      <td>31</td>\n",
       "    </tr>\n",
       "    <tr>\n",
       "      <th>Alyssaberg</th>\n",
       "      <td>26</td>\n",
       "      <td>26</td>\n",
       "      <td>26</td>\n",
       "    </tr>\n",
       "    <tr>\n",
       "      <th>Anitamouth</th>\n",
       "      <td>9</td>\n",
       "      <td>9</td>\n",
       "      <td>9</td>\n",
       "    </tr>\n",
       "    <tr>\n",
       "      <th>Antoniomouth</th>\n",
       "      <td>22</td>\n",
       "      <td>22</td>\n",
       "      <td>22</td>\n",
       "    </tr>\n",
       "    <tr>\n",
       "      <th>Aprilchester</th>\n",
       "      <td>19</td>\n",
       "      <td>19</td>\n",
       "      <td>19</td>\n",
       "    </tr>\n",
       "  </tbody>\n",
       "</table>\n",
       "</div>"
      ],
      "text/plain": [
       "              date  fare  ride_id\n",
       "city                             \n",
       "Alvarezhaven    31    31       31\n",
       "Alyssaberg      26    26       26\n",
       "Anitamouth       9     9        9\n",
       "Antoniomouth    22    22       22\n",
       "Aprilchester    19    19       19"
      ]
     },
     "execution_count": 8,
     "metadata": {},
     "output_type": "execute_result"
    }
   ],
   "source": [
    "totRiders_city.head()"
   ]
  },
  {
   "cell_type": "code",
   "execution_count": 9,
   "metadata": {},
   "outputs": [
    {
     "data": {
      "text/html": [
       "<div>\n",
       "<style>\n",
       "    .dataframe thead tr:only-child th {\n",
       "        text-align: right;\n",
       "    }\n",
       "\n",
       "    .dataframe thead th {\n",
       "        text-align: left;\n",
       "    }\n",
       "\n",
       "    .dataframe tbody tr th {\n",
       "        vertical-align: top;\n",
       "    }\n",
       "</style>\n",
       "<table border=\"1\" class=\"dataframe\">\n",
       "  <thead>\n",
       "    <tr style=\"text-align: right;\">\n",
       "      <th></th>\n",
       "      <th>city</th>\n",
       "      <th>driver_count</th>\n",
       "    </tr>\n",
       "    <tr>\n",
       "      <th>type</th>\n",
       "      <th></th>\n",
       "      <th></th>\n",
       "    </tr>\n",
       "  </thead>\n",
       "  <tbody>\n",
       "    <tr>\n",
       "      <th>Rural</th>\n",
       "      <td>18</td>\n",
       "      <td>18</td>\n",
       "    </tr>\n",
       "    <tr>\n",
       "      <th>Suburban</th>\n",
       "      <td>42</td>\n",
       "      <td>42</td>\n",
       "    </tr>\n",
       "    <tr>\n",
       "      <th>Urban</th>\n",
       "      <td>66</td>\n",
       "      <td>66</td>\n",
       "    </tr>\n",
       "  </tbody>\n",
       "</table>\n",
       "</div>"
      ],
      "text/plain": [
       "          city  driver_count\n",
       "type                        \n",
       "Rural       18            18\n",
       "Suburban    42            42\n",
       "Urban       66            66"
      ]
     },
     "execution_count": 9,
     "metadata": {},
     "output_type": "execute_result"
    }
   ],
   "source": [
    "totType_city"
   ]
  },
  {
   "cell_type": "code",
   "execution_count": null,
   "metadata": {},
   "outputs": [],
   "source": []
  },
  {
   "cell_type": "code",
   "execution_count": 10,
   "metadata": {},
   "outputs": [
    {
     "data": {
      "image/png": "[encoded data removed]",
      "text/plain": [
       "<matplotlib.figure.Figure at 0x11558b128>"
      ]
     },
     "metadata": {},
     "output_type": "display_data"
    }
   ],
   "source": [
    "#create the bubble chart\n",
    "\n",
    "fares = avgFares_city['fare']\n",
    "#len(fares)\n",
    "riders = totRiders_city['ride_id']\n",
    "#len(riders)\n",
    "size = totType_city['driver_count']\n",
    "\n",
    "colors = [\"gold\",\"lightskyblue\",\"lightcoral\"]\n",
    "\n",
    "# create data\n",
    "x = riders # number of riders per city\n",
    "y = fares # average fare per city\n",
    "z = size # nbr drivers per city size of bubble\n",
    "\n",
    "\n",
    "\n",
    "# Size of bubble is equal to nbr of drivers in a city\n",
    "# Change color with c and alpha. I map the color to the X axis value.\n",
    "plt.scatter(x, y, s=z*8, c=colors, alpha=0.75, edgecolors=\"grey\")\n",
    "\n",
    "# Add titles (main and on axis)\n",
    "plt.grid(True)\n",
    "plt.xlabel(\"Total Number of Rides (Per City)\")\n",
    "plt.ylabel(\"Average Fare ($)\")\n",
    "plt.title(\"Pyber Ride Sharing Data\")\n",
    "\n",
    "red_patch = mpatches.Patch(color='lightcoral')\n",
    "blue_patch = mpatches.Patch(color='lightskyblue')\n",
    "gold_patch = mpatches.Patch(color='gold')\n",
    "\n",
    "plt.legend([red_patch, blue_patch, gold_patch], ['Urban', 'Subburban','Rural']) \n",
    "plt.savefig('bubble.png')\n",
    "plt.close('bubble.png')\n",
    "\n",
    "plt.show()"
   ]
  },
  {
   "cell_type": "markdown",
   "metadata": {},
   "source": [
    "% of total fares by city type\n",
    "\n",
    "% of total rides by city type\n",
    "\n",
    "% of total drivers by city type"
   ]
  },
  {
   "cell_type": "code",
   "execution_count": 11,
   "metadata": {},
   "outputs": [
    {
     "name": "stdout",
     "output_type": "stream",
     "text": [
      " rural 4255.09 urban 40078.33999999999 sub 20335.689999999973\n"
     ]
    }
   ],
   "source": [
    "# % of total fares by city type\n",
    "\n",
    "r = new_df.loc[new_df[\"type\"] == \"Rural\",:]\n",
    "rural = r['fare'].sum()\n",
    "\n",
    "u = new_df.loc[new_df[\"type\"] == \"Urban\",:]\n",
    "urban = u['fare'].sum()\n",
    "\n",
    "s = new_df.loc[new_df[\"type\"] == \"Suburban\",:]\n",
    "subburban = s['fare'].sum()\n",
    "\n",
    "print(f\" rural {rural} urban {urban} sub {subburban}\")"
   ]
  },
  {
   "cell_type": "code",
   "execution_count": 12,
   "metadata": {},
   "outputs": [],
   "source": [
    "#Plot first Pie Chart\n",
    "\n",
    "cityType = [\"Rural\", \"Suburban\", \"Urban\"]\n",
    "pie_votes = [rural,subburban,urban]\n",
    "colors = [\"gold\",\"lightskyblue\",\"lightcoral\"]\n",
    "explode = (0,0,0)"
   ]
  },
  {
   "cell_type": "code",
   "execution_count": 13,
   "metadata": {},
   "outputs": [
    {
     "data": {
      "text/plain": [
       "([<matplotlib.patches.Wedge at 0x1157205f8>,\n",
       "  <matplotlib.patches.Wedge at 0x115720f98>,\n",
       "  <matplotlib.patches.Wedge at 0x11572ca58>],\n",
       " [Text(-0.969829,0.519068,'Rural'),\n",
       "  Text(-0.839065,-0.711316,'Suburban'),\n",
       "  Text(0.967193,0.523963,'Urban')],\n",
       " [Text(-0.528998,0.283128,'6.6%'),\n",
       "  Text(-0.457672,-0.387991,'31.4%'),\n",
       "  Text(0.52756,0.285798,'62.0%')])"
      ]
     },
     "execution_count": 13,
     "metadata": {},
     "output_type": "execute_result"
    }
   ],
   "source": [
    "# Tell matplotlib to create a pie chart based upon the above data\n",
    "plt.pie(pie_votes, explode=explode, labels=cityType, colors=colors,\n",
    "        autopct=\"%1.1f%%\", shadow=True, startangle=140)"
   ]
  },
  {
   "cell_type": "code",
   "execution_count": 14,
   "metadata": {},
   "outputs": [
    {
     "data": {
      "text/plain": [
       "Text(0.5,1,'% of Total Fares by City Type')"
      ]
     },
     "execution_count": 14,
     "metadata": {},
     "output_type": "execute_result"
    }
   ],
   "source": [
    "# Create axes which are equal so we have a perfect circle\n",
    "plt.axis(\"equal\")\n",
    "\n",
    "plt.title(\"% of Total Fares by City Type\")"
   ]
  },
  {
   "cell_type": "code",
   "execution_count": 15,
   "metadata": {},
   "outputs": [
    {
     "data": {
      "image/png": "[encoded data removed]",
      "text/plain": [
       "<matplotlib.figure.Figure at 0x10dfb5630>"
      ]
     },
     "metadata": {},
     "output_type": "display_data"
    }
   ],
   "source": [
    "#save and show the graph\n",
    "plt.savefig('pie1.png')\n",
    "plt.close('pie1.png')\n",
    "\n",
    "\n",
    "plt.show()"
   ]
  },
  {
   "cell_type": "code",
   "execution_count": 16,
   "metadata": {},
   "outputs": [],
   "source": [
    "#total fare by city type\n",
    "\n",
    "# total_fares = rider_df['fare'].sum()\n",
    "# total_fares\n",
    "\n",
    "#cityFareSum_df = rider_df.groupby(['city']).sum()\n",
    "\n",
    "#cityFareSum_df.head()\n",
    "#type_df = pd.DataFrame()\n",
    "# cityByType_df = city_df.groupby(['type'])\n",
    "# cityByType_df.columns\n",
    "# type_df = cityByType_df[\"type\", 'city']\n",
    "# type_df.head()\n",
    "\n",
    "# #riderByCity_df = rider_df.groupby(['city'])\n",
    "# #riderByCity_df.head()\n",
    "\n",
    "\n"
   ]
  },
  {
   "cell_type": "code",
   "execution_count": 17,
   "metadata": {},
   "outputs": [],
   "source": [
    "# rider_df['type']=city_df['type']\n",
    "# rider_df"
   ]
  },
  {
   "cell_type": "code",
   "execution_count": 18,
   "metadata": {},
   "outputs": [],
   "source": [
    "# #Merge the dataframes into a new df\n",
    "# mCityRide_df = pd.merge(cityByType_df, riderByCity_df)"
   ]
  },
  {
   "cell_type": "code",
   "execution_count": 19,
   "metadata": {},
   "outputs": [],
   "source": [
    "#Merge dataframes\n",
    "\n",
    "#Merge the dataframes into a new df\n",
    "# merged_df = pd.merge(city_df, rider_df)"
   ]
  },
  {
   "cell_type": "code",
   "execution_count": 20,
   "metadata": {},
   "outputs": [],
   "source": [
    "# #count of type\n",
    "# totFaresType_df = merged_df.groupby(['type']).count()"
   ]
  },
  {
   "cell_type": "code",
   "execution_count": 21,
   "metadata": {},
   "outputs": [],
   "source": [
    "# totFaresType_df.head()\n"
   ]
  },
  {
   "cell_type": "code",
   "execution_count": 22,
   "metadata": {},
   "outputs": [],
   "source": [
    "# #count of rides\n",
    "# totridesType_df = merged_df.groupby(['type']).count()"
   ]
  },
  {
   "cell_type": "code",
   "execution_count": 23,
   "metadata": {},
   "outputs": [
    {
     "name": "stdout",
     "output_type": "stream",
     "text": [
      " rural 125 urban 1625 sub 657\n"
     ]
    }
   ],
   "source": [
    "# % of total rides by city type\n",
    "\n",
    "r2 = new_df.loc[new_df[\"type\"] == \"Rural\",:]\n",
    "ruralRider = r2['fare'].count()\n",
    "\n",
    "u2 = new_df.loc[new_df[\"type\"] == \"Urban\",:]\n",
    "urbanRider = u2['fare'].count()\n",
    "\n",
    "s2 = new_df.loc[new_df[\"type\"] == \"Suburban\",:]\n",
    "subburbanRider = s2['fare'].count()\n",
    "\n",
    "print(f\" rural {ruralRider} urban {urbanRider} sub {subburbanRider}\")"
   ]
  },
  {
   "cell_type": "code",
   "execution_count": 24,
   "metadata": {},
   "outputs": [],
   "source": [
    "#Plot second Pie Chart\n",
    "\n",
    "cityType = [\"Rural\", \"Suburban\", \"Urban\"]\n",
    "pie_votes = [ruralRider,subburbanRider,urbanRider]\n",
    "colors = [\"gold\",\"lightskyblue\",\"lightcoral\"]\n",
    "explode = (0,0,0)"
   ]
  },
  {
   "cell_type": "code",
   "execution_count": 25,
   "metadata": {},
   "outputs": [
    {
     "data": {
      "text/plain": [
       "([<matplotlib.patches.Wedge at 0x1188b82e8>,\n",
       "  <matplotlib.patches.Wedge at 0x1188b8d30>,\n",
       "  <matplotlib.patches.Wedge at 0x1188bf7f0>],\n",
       " [Text(-0.946305,0.560809,'Rural'),\n",
       "  Text(-0.972796,-0.513487,'Suburban'),\n",
       "  Text(1.04328,0.348661,'Urban')],\n",
       " [Text(-0.516166,0.305896,'5.2%'),\n",
       "  Text(-0.530616,-0.280084,'27.3%'),\n",
       "  Text(0.569062,0.190179,'67.5%')])"
      ]
     },
     "execution_count": 25,
     "metadata": {},
     "output_type": "execute_result"
    }
   ],
   "source": [
    "# Tell matplotlib to create a pie chart based upon the above data\n",
    "plt.pie(pie_votes, explode=explode, labels=cityType, colors=colors,\n",
    "        autopct=\"%1.1f%%\", shadow=True, startangle=140)"
   ]
  },
  {
   "cell_type": "code",
   "execution_count": 26,
   "metadata": {},
   "outputs": [
    {
     "data": {
      "text/plain": [
       "Text(0.5,1,'% of Total Rides by City Type')"
      ]
     },
     "execution_count": 26,
     "metadata": {},
     "output_type": "execute_result"
    }
   ],
   "source": [
    "# Create axes which are equal so we have a perfect circle\n",
    "plt.axis(\"equal\")\n",
    "\n",
    "plt.title(\"% of Total Rides by City Type\")"
   ]
  },
  {
   "cell_type": "code",
   "execution_count": 27,
   "metadata": {},
   "outputs": [
    {
     "data": {
      "image/png": "[encoded data removed]",
      "text/plain": [
       "<matplotlib.figure.Figure at 0x10eaa20f0>"
      ]
     },
     "metadata": {},
     "output_type": "display_data"
    }
   ],
   "source": [
    "#show the graph\n",
    "plt.savefig('pie2.png')\n",
    "plt.close('pie2.png')\n",
    "plt.show()"
   ]
  },
  {
   "cell_type": "code",
   "execution_count": 28,
   "metadata": {},
   "outputs": [
    {
     "data": {
      "text/plain": [
       "Index(['city', 'driver_count', 'type', 'date', 'fare', 'ride_id'], dtype='object')"
      ]
     },
     "execution_count": 28,
     "metadata": {},
     "output_type": "execute_result"
    }
   ],
   "source": [
    "new_df.columns"
   ]
  },
  {
   "cell_type": "code",
   "execution_count": 29,
   "metadata": {},
   "outputs": [
    {
     "name": "stdout",
     "output_type": "stream",
     "text": [
      " rural 727 urban 64501 sub 9730\n"
     ]
    }
   ],
   "source": [
    "# % of total drivers by city type\n",
    "\n",
    "r3 = new_df.loc[new_df[\"type\"] == \"Rural\",:]\n",
    "ruralDrive = r3['driver_count'].sum()\n",
    "\n",
    "u3 = new_df.loc[new_df[\"type\"] == \"Urban\",:]\n",
    "urbanDrive = u3['driver_count'].sum()\n",
    "\n",
    "s3 = new_df.loc[new_df[\"type\"] == \"Suburban\",:]\n",
    "subburbanDrive = s3['driver_count'].sum()\n",
    "\n",
    "print(f\" rural {ruralDrive} urban {urbanDrive} sub {subburbanDrive}\")"
   ]
  },
  {
   "cell_type": "code",
   "execution_count": 30,
   "metadata": {},
   "outputs": [
    {
     "data": {
      "image/png": "[encoded data removed]",
      "text/plain": [
       "<matplotlib.figure.Figure at 0x1188cc7b8>"
      ]
     },
     "metadata": {},
     "output_type": "display_data"
    }
   ],
   "source": [
    "#Plot third Pie Chart\n",
    "\n",
    "cityType = [\"Rural\", \"Suburban\", \"Urban\"]\n",
    "pie_votes = [ruralDrive,subburbanDrive,urbanDrive]\n",
    "colors = [\"gold\",\"lightskyblue\",\"lightcoral\"]\n",
    "explode = (0,0,0)\n",
    "\n",
    "# Tell matplotlib to create a pie chart based upon the above data\n",
    "plt.pie(pie_votes, explode=explode, labels=cityType, colors=colors,\n",
    "        autopct=\"%1.1f%%\", shadow=True, startangle=140)\n",
    "\n",
    "# Create axes which are equal so we have a perfect circle\n",
    "plt.axis(\"equal\")\n",
    "\n",
    "# Place a legend on the chart in what matplotlib believes to be the \"best\" location\n",
    "#plt.legend(loc=\"best\")\n",
    "\n",
    "plt.title(\"% of Total Drivers by City Type\")\n",
    "#plt.xlabel(\"Years\")\n",
    "#plt.ylabel(\"Number of Wins/Losses\")\n",
    "\n",
    "\n",
    "\n",
    "\n",
    "#save and show the graph\n",
    "plt.savefig('pie3.png')\n",
    "plt.close('pie3.png')\n",
    "plt.show()\n"
   ]
  },
  {
   "cell_type": "code",
   "execution_count": null,
   "metadata": {},
   "outputs": [],
   "source": []
  },
  {
   "cell_type": "code",
   "execution_count": null,
   "metadata": {},
   "outputs": [],
   "source": []
  },
  {
   "cell_type": "markdown",
   "metadata": {},
   "source": [
    "Junkyard old code\n"
   ]
  },
  {
   "cell_type": "code",
   "execution_count": 31,
   "metadata": {},
   "outputs": [],
   "source": [
    "#city_df.head()\n",
    "# city_df['city'].count()\n",
    "# cityFareSum_df['type']=city_df['type']\n",
    "# cityFareSum_df\n",
    "# Merge and create a new DF that combined the city and rider data together.\n",
    "# new_df = pd.merge(left=city_df, right=rider_df,\n",
    "#                  how='left', left_on='city',\n",
    "#                  right_on='city')\n",
    "# fare_sum = new_df['fare'].sum()\n",
    "# fare_type = new_df.groupby(['type']).sum()\n",
    "\n",
    "# fare_type.reset_index('type')\n",
    "# type(fare_type)"
   ]
  },
  {
   "cell_type": "code",
   "execution_count": null,
   "metadata": {},
   "outputs": [],
   "source": []
  },
  {
   "cell_type": "code",
   "execution_count": null,
   "metadata": {},
   "outputs": [],
   "source": []
  },
  {
   "cell_type": "code",
   "execution_count": null,
   "metadata": {},
   "outputs": [],
   "source": []
  }
 ],
 "metadata": {
  "kernelspec": {
   "display_name": "Python 3",
   "language": "python",
   "name": "python3"
  },
  "language_info": {
   "codemirror_mode": {
    "name": "ipython",
    "version": 3
   },
   "file_extension": ".py",
   "mimetype": "text/x-python",
   "name": "python",
   "nbconvert_exporter": "python",
   "pygments_lexer": "ipython3",
   "version": "3.6.3"
  },
  "varInspector": {
   "cols": {
    "lenName": 16,
    "lenType": 16,
    "lenVar": 40
   },
   "kernels_config": {
    "python": {
     "delete_cmd_postfix": "",
     "delete_cmd_prefix": "del ",
     "library": "var_list.py",
     "varRefreshCmd": "print(var_dic_list())"
    },
    "r": {
     "delete_cmd_postfix": ") ",
     "delete_cmd_prefix": "rm(",
     "library": "var_list.r",
     "varRefreshCmd": "cat(var_dic_list()) "
    }
   },
   "position": {
    "height": "561px",
    "left": "321px",
    "right": "539px",
    "top": "257px",
    "width": "800px"
   },
   "types_to_exclude": [
    "module",
    "function",
    "builtin_function_or_method",
    "instance",
    "_Feature"
   ],
   "window_display": false
  }
 },
 "nbformat": 4,
 "nbformat_minor": 2
}
